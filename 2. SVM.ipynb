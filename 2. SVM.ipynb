{
 "cells": [
  {
   "cell_type": "code",
   "execution_count": null,
   "metadata": {
    "collapsed": true
   },
   "outputs": [],
   "source": [
    "\"\"\" \n",
    "    This is the code to accompany the Lesson 2 (SVM) mini-project.\n",
    "\n",
    "    Use a SVM to identify emails from the Enron corpus by their authors:    \n",
    "    Sara has label 0\n",
    "    Chris has label 1\n",
    "\"\"\"\n",
    "    \n",
    "import sys\n",
    "from time import time\n",
    "from sklearn.svm import SVC\n",
    "from sklearn.metrics import accuracy_score\n",
    "sys.path.append(\"../tools/\")\n",
    "from email_preprocess import preprocess\n",
    "\n",
    "### features_train and features_test are the features for the training\n",
    "### and testing datasets, respectively\n",
    "### labels_train and labels_test are the corresponding item labels\n",
    "features_train, features_test, labels_train, labels_test = preprocess()\n",
    "\n",
    "\n",
    "#########################################################\n",
    "def svm(features_train, features_test, labels_train, labels_test, limit_train = 'No', kernel='linear', C=1.0):\n",
    "    # declare classifier\n",
    "    clf = SVC(kernel = kernel, C=C)\n",
    "    \n",
    "    # set training set\n",
    "    if limit_train == 'Yes':\n",
    "        features_train = features_train[:len(features_train)/100] \n",
    "        labels_train = labels_train[:len(labels_train)/100]\n",
    "    \n",
    "    # train classifier\n",
    "    t0 = time()\n",
    "    clf.fit(features_train,labels_train)\n",
    "    print \"\\ntime to train:\", round(time()-t0, 3), \"s\"\n",
    "    \n",
    "    # predict classifer\n",
    "    pred = clf.predict(features_test)\n",
    "    print \"\\ntime to predict:\", round(time()-t0, 3), \"s\"\n",
    "\n",
    "    accuracy = accuracy_score(pred, labels_test)\n",
    "\n",
    "    print '\\nprediction accuracy = {0}'.format(accuracy)\n",
    "    return pred\n",
    "\n",
    "pred = svm(features_train, features_test, labels_train, labels_test, 'No', 'rbf', 10000)\n",
    "\n",
    "print \"Predictions for records 10, 26 and 50, respectively:\", pred[10], \",\", pred[26],\",\", pred[50]\n",
    "print \"Number of Chris emails:\", sum(pred)\n",
    "\n"
   ]
  }
 ],
 "metadata": {
  "kernelspec": {
   "display_name": "Python 2",
   "language": "python",
   "name": "python2"
  },
  "language_info": {
   "codemirror_mode": {
    "name": "ipython",
    "version": 2
   },
   "file_extension": ".py",
   "mimetype": "text/x-python",
   "name": "python",
   "nbconvert_exporter": "python",
   "pygments_lexer": "ipython2",
   "version": "2.7.13"
  }
 },
 "nbformat": 4,
 "nbformat_minor": 2
}
