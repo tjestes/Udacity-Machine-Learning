{
 "cells": [
  {
   "cell_type": "markdown",
   "metadata": {},
   "source": [
    "## Enron Dataset Size"
   ]
  },
  {
   "cell_type": "code",
   "execution_count": 7,
   "metadata": {},
   "outputs": [
    {
     "name": "stdout",
     "output_type": "stream",
     "text": [
      "Number of data points (people) in the enron data set: 146\n"
     ]
    }
   ],
   "source": [
    "## import enron dataset and find total records\n",
    "import pickle\n",
    "import pandas as pd\n",
    "\n",
    "enron_data = pickle.load(open(\"../final_project/final_project_dataset.pkl\", \"r\"))\n",
    "\n",
    "print \"Number of data points (people) in the enron data set:\", len(enron_data)"
   ]
  },
  {
   "cell_type": "markdown",
   "metadata": {},
   "source": [
    "## Features per Data Point"
   ]
  },
  {
   "cell_type": "code",
   "execution_count": 9,
   "metadata": {},
   "outputs": [
    {
     "name": "stdout",
     "output_type": "stream",
     "text": [
      "Number of features per data point (perseon): 21\n"
     ]
    }
   ],
   "source": [
    "print \"Number of features per data point (perseon):\", len(enron_data.values()[0])"
   ]
  },
  {
   "cell_type": "markdown",
   "metadata": {},
   "source": [
    "## Find Persons of Interest in Enron Dataset"
   ]
  },
  {
   "cell_type": "code",
   "execution_count": 30,
   "metadata": {},
   "outputs": [
    {
     "name": "stdout",
     "output_type": "stream",
     "text": [
      " Number of POI's in dataset: 18\n"
     ]
    }
   ],
   "source": [
    "# use a list comprehension method to loop through the enron data and find pois\n",
    "poi = [x for x, y in enron_data.items() if y['poi']]\n",
    "\n",
    "print \"Number of POI\\'s in dataset:\", len(poi)"
   ]
  },
  {
   "cell_type": "markdown",
   "metadata": {},
   "source": [
    "## Find Person of Interest with Email Data"
   ]
  },
  {
   "cell_type": "code",
   "execution_count": 70,
   "metadata": {},
   "outputs": [
    {
     "data": {
      "text/plain": [
       "35"
      ]
     },
     "execution_count": 70,
     "metadata": {},
     "output_type": "execute_result"
    }
   ],
   "source": [
    "# import poi names text file\n",
    "df = pd.read_table('../final_project/poi_names.txt', delim_whitespace=True, names=('POI', 'Last Name', 'First Name'))\n",
    "\n",
    "# remove top row\n",
    "df = df[1:]\n",
    "\n",
    "# remove any commas from last name column\n",
    "df[\"Last Name\"] = [x[:-1] for x in df['Last Name']]\n",
    "\n",
    "print \"Number of POI\\'s in text file:\",len(df)"
   ]
  },
  {
   "cell_type": "markdown",
   "metadata": {},
   "source": [
    "## Query James Prentice Stock Value"
   ]
  },
  {
   "cell_type": "code",
   "execution_count": 73,
   "metadata": {},
   "outputs": [
    {
     "name": "stdout",
     "output_type": "stream",
     "text": [
      "James Prentice's stock value: 1095040\n"
     ]
    }
   ],
   "source": [
    "# find James Prentice's stock value\n",
    "print \"James Prentice's stock value:\", enron_data['PRENTICE JAMES']['total_stock_value']"
   ]
  },
  {
   "cell_type": "markdown",
   "metadata": {},
   "source": [
    "## Query Wesley Colwell's email count"
   ]
  },
  {
   "cell_type": "code",
   "execution_count": 81,
   "metadata": {},
   "outputs": [
    {
     "name": "stdout",
     "output_type": "stream",
     "text": [
      "Total emails sent by Wesley Colwell: 11\n"
     ]
    }
   ],
   "source": [
    "# find total emails sent by Wesley Colwell\n",
    "print \"Total emails sent by Wesley Colwell:\", enron_data['COLWELL WESLEY']['from_this_person_to_poi']"
   ]
  },
  {
   "cell_type": "markdown",
   "metadata": {},
   "source": [
    "## Query Jeffrey Skilling's Stock Options"
   ]
  },
  {
   "cell_type": "raw",
   "metadata": {},
   "source": [
    "# find value of stock options for Jeffrey K Skilling\n",
    "print \"Total emails sent by Jeffrey K Skilling:\", enron_data['SKILLING JEFFREY K']['exercised_stock_options']"
   ]
  },
  {
   "cell_type": "markdown",
   "metadata": {},
   "source": [
    "## Find Highest Paid POI"
   ]
  },
  {
   "cell_type": "code",
   "execution_count": 109,
   "metadata": {},
   "outputs": [
    {
     "data": {
      "text/plain": [
       "[('LAY KENNETH L', 103559793),\n",
       " ('SKILLING JEFFREY K', 8682716),\n",
       " ('FASTOW ANDREW S', 2424083)]"
      ]
     },
     "execution_count": 109,
     "metadata": {},
     "output_type": "execute_result"
    }
   ],
   "source": [
    "# create list of names to query\n",
    "names = ['SKILLING JEFFREY K', 'FASTOW ANDREW S', 'LAY KENNETH L']\n",
    "\n",
    "# create dictionary of names with their total payment\n",
    "payments_by_name = {name:enron_data[name]['total_payments'] for name in names}\n",
    "\n",
    "# user a lambda functin to sort payments by total\n",
    "sorted(payments_by_name.items(), key=lambda x: x[1], reverse=True)"
   ]
  },
  {
   "cell_type": "markdown",
   "metadata": {},
   "source": [
    "## Find Records with Valid Emails and Salary Data"
   ]
  },
  {
   "cell_type": "code",
   "execution_count": 145,
   "metadata": {},
   "outputs": [
    {
     "name": "stdout",
     "output_type": "stream",
     "text": [
      "Total valid salaries in dataset 95\n",
      "Total valid emails in dataset 111\n"
     ]
    }
   ],
   "source": [
    "# will import these records into a dataframe for easier filtering by NaN values\n",
    "\n",
    "df_enron = pd.DataFrame(enron_data).T\n",
    "n_valid_salaries = len(df_enron.query('salary != \"NaN\"'))\n",
    "n_valid_emails = len(df_enron.query('email_address != \"NaN\"'))\n",
    "\n",
    "print \"Total valid salaries in dataset\", n_valid_salaries\n",
    "print \"Total valid emails in dataset\", n_valid_emails"
   ]
  },
  {
   "cell_type": "markdown",
   "metadata": {},
   "source": [
    "## Missing POIs Queries"
   ]
  },
  {
   "cell_type": "code",
   "execution_count": 166,
   "metadata": {},
   "outputs": [
    {
     "name": "stdout",
     "output_type": "stream",
     "text": [
      "total payments missing: 21\n",
      "percent payments missing: 14 %\n",
      "total payments missing for POIs: 0\n"
     ]
    },
    {
     "data": {
      "text/plain": [
       "18"
      ]
     },
     "execution_count": 166,
     "metadata": {},
     "output_type": "execute_result"
    }
   ],
   "source": [
    "# How many people in the loaded enron dataset have a missing total payments value\n",
    "# What percentage of people in the dataset is this?\n",
    "\n",
    "n_missing_payments = len(df_enron.query('total_payments == \"NaN\"'))\n",
    "n_dataset, features = df_enron.shape\n",
    "pct_missing_payment = (n_missing_payments*100)/n_dataset\n",
    "\n",
    "print \"total payments missing:\", n_missing_payments\n",
    "print \"percent payments missing:\", pct_missing_payment, \"%\"\n",
    "\n",
    "# How many POIs in enron dataset having missing payments\n",
    "n_missing_payments_pois = len(df_enron.query('total_payments == \"NaN\" and poi == True'))\n",
    "print \"total payments missing for POIs:\", n_missing_payments_pois"
   ]
  }
 ],
 "metadata": {
  "kernelspec": {
   "display_name": "Python 2",
   "language": "python",
   "name": "python2"
  },
  "language_info": {
   "codemirror_mode": {
    "name": "ipython",
    "version": 2
   },
   "file_extension": ".py",
   "mimetype": "text/x-python",
   "name": "python",
   "nbconvert_exporter": "python",
   "pygments_lexer": "ipython2",
   "version": "2.7.13"
  }
 },
 "nbformat": 4,
 "nbformat_minor": 2
}
